{
 "cells": [
  {
   "cell_type": "markdown",
   "id": "6b5a05c7-04a4-4a23-80dc-61e229fab881",
   "metadata": {},
   "source": [
    "# Employment to population ratio"
   ]
  },
  {
   "cell_type": "markdown",
   "id": "28ec8640-2350-431e-b1fd-4250f90d9772",
   "metadata": {},
   "source": [
    "https://data.worldbank.org/indicator/SL.EMP.TOTL.SP.ZS?end=2020&most_recent_year_desc=false&start=1991"
   ]
  },
  {
   "cell_type": "markdown",
   "id": "2e81bf43-41f6-4b50-94d4-a3fad7ca8f95",
   "metadata": {},
   "source": [
    "Employment to population ratio is the proportion of a country's population that is employed. This Notebook goes over rates across every country from the years 1991-2020"
   ]
  },
  {
   "cell_type": "markdown",
   "id": "cac550c3-e58e-4b5c-ae7c-58228b1d012a",
   "metadata": {},
   "source": [
    "* How does Country Size and Employement compare\n",
    "* What countries have the greatest employment and which have worst"
   ]
  },
  {
   "cell_type": "code",
   "execution_count": null,
   "id": "8e88f4e9-1837-49e8-805b-717d1fb62f87",
   "metadata": {},
   "outputs": [],
   "source": [
    "import csv\n",
    "import matplotlib.pyplot as plt\n",
    "import numpy as np\n",
    "import pandas as pd"
   ]
  },
  {
   "cell_type": "code",
   "execution_count": null,
   "id": "335c481a-9931-4e60-b00f-9570dfc188d0",
   "metadata": {},
   "outputs": [],
   "source": [
    "# with open('data/Employment.csv','r',encoding = 'utf-8') as csvfile:\n",
    "#     reader = csv.DictReader(csvfile)\n",
    "#     data = [row for row in reader]\n",
    "#     csvfile.close()\n",
    "# data = data[1:]\n",
    "# data[0]\n",
    "\n",
    "data = pd.read_csv('data/Employment.csv')\n",
    "data"
   ]
  },
  {
   "cell_type": "markdown",
   "id": "c5c004de-2195-431d-ac55-3ce58c4291d1",
   "metadata": {},
   "source": [
    "# Showing a description of the Data and displaying the columns"
   ]
  },
  {
   "cell_type": "code",
   "execution_count": null,
   "id": "85060701-f6a6-498d-ba58-6557e86cfa07",
   "metadata": {},
   "outputs": [],
   "source": [
    "data.describe()"
   ]
  },
  {
   "cell_type": "code",
   "execution_count": null,
   "id": "4b0f78e4-9440-46e4-a314-3d50e35b2de4",
   "metadata": {},
   "outputs": [],
   "source": [
    "Cdata = data.columns\n",
    "Cdata\n",
    "Cdata[4:]"
   ]
  },
  {
   "cell_type": "markdown",
   "id": "4b7c7d54-f74f-4b98-a797-e3f2f2244bba",
   "metadata": {},
   "source": [
    "# Employment plot for various countries"
   ]
  },
  {
   "cell_type": "code",
   "execution_count": null,
   "id": "786f18d4-8b7b-4e21-93e6-452daa6fd419",
   "metadata": {},
   "outputs": [],
   "source": [
    "plt.figure(figsize=(15,10))\n",
    "country = data['Country Name']\n",
    "tzzzEmp = data['2000']\n",
    "years = Cdata\n",
    "print(country[35])\n",
    "USA = data.iloc[222,4:]\n",
    "World = data.iloc[229,4:]\n",
    "Ven = data.iloc[225,4:]\n",
    "Isr = data.iloc[100,4:]\n",
    "Chi = data.iloc[35,4:]\n",
    "plt.plot(USA,color='red',label='USA Employment')\n",
    "plt.plot(World,color='green',label='World Employment')\n",
    "plt.plot(Ven,color='yellow',label='Venezuela Employment')\n",
    "plt.plot(Isr,color='blue',label='Israel Employment')\n",
    "plt.plot(Chi,color='purple',label='China Employment')\n",
    "plt.legend()\n",
    "plt.xlabel('Years')\n",
    "plt.ylabel('Employment to Population Ratio')\n",
    "plt.title('Employment to Population Ratio across Several Locations')"
   ]
  },
  {
   "cell_type": "markdown",
   "id": "822385cc-b887-4a2a-86c7-a1ade396c082",
   "metadata": {},
   "source": [
    "# Pivot Table and Plot for every country in 2000 and 2020"
   ]
  },
  {
   "cell_type": "code",
   "execution_count": null,
   "id": "aeeb178a-2cf6-4a6a-a5be-259e899afef4",
   "metadata": {},
   "outputs": [],
   "source": [
    "pivot = pd.pivot_table(data,values = ['2000','2020'], index = ['Country Name'])\n",
    "pivot"
   ]
  },
  {
   "cell_type": "code",
   "execution_count": null,
   "id": "ee76889d-67c1-4e7b-92bd-2724f5c06617",
   "metadata": {},
   "outputs": [],
   "source": [
    "pivot[['2000','2020']].plot(figsize=(30,20))\n",
    "plt.plot()\n",
    "plt.xticks()\n",
    "plt.ylabel('Employment to Population Ratio',fontdict={'fontsize': 20})\n",
    "plt.xlabel('Country Name',fontdict={'fontsize': 20})\n",
    "plt.title('Employment Rate for Every Country for years 2000 and 2020',fontdict={'fontsize': 20})\n",
    "plt.legend(prop={'size': 20})"
   ]
  },
  {
   "cell_type": "markdown",
   "id": "ca72ed07-d6e8-4f84-9930-e873d8a82647",
   "metadata": {},
   "source": [
    "# Groupby showing Employment Rate Sum of each country"
   ]
  },
  {
   "cell_type": "code",
   "execution_count": null,
   "id": "2477c2fe-9939-488b-8806-1a93fe27a9a3",
   "metadata": {},
   "outputs": [],
   "source": [
    "Year_Sum = data.sum(axis=1)\n",
    "data['All_Years'] = data.sum(axis=1)\n",
    "Year_Sum"
   ]
  },
  {
   "cell_type": "code",
   "execution_count": null,
   "id": "3eceb4b7-e9a7-4c31-b46b-7b4733a1dd0e",
   "metadata": {},
   "outputs": [],
   "source": [
    "group = data.groupby('Country Name')\n",
    "group = group['All_Years'].agg(sum)\n",
    "group = group.sort_values(ascending=False)\n",
    "group.head(10)"
   ]
  },
  {
   "cell_type": "markdown",
   "id": "d448ba79-287b-4e1b-948a-444058465b64",
   "metadata": {},
   "source": [
    "# Discussion"
   ]
  },
  {
   "cell_type": "markdown",
   "id": "30ed0b14-3061-4ab3-9e01-14f691563750",
   "metadata": {},
   "source": [
    "* This data shows that over this long period of time employement rate has not changed all that much and is much lower in several countries. \n",
    "* I also found that smaller, lower population countries have greater employement rate likely due to the greater need"
   ]
  }
 ],
 "metadata": {
  "kernelspec": {
   "display_name": "Python 3 (ipykernel)",
   "language": "python",
   "name": "python3"
  },
  "language_info": {
   "codemirror_mode": {
    "name": "ipython",
    "version": 3
   },
   "file_extension": ".py",
   "mimetype": "text/x-python",
   "name": "python",
   "nbconvert_exporter": "python",
   "pygments_lexer": "ipython3",
   "version": "3.9.7"
  }
 },
 "nbformat": 4,
 "nbformat_minor": 5
}
